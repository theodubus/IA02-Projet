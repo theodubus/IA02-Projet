{
 "cells": [
  {
   "cell_type": "code",
   "execution_count": 1,
   "metadata": {},
   "outputs": [],
   "source": [
    "from enum import Enum\n",
    "\n",
    "class Couleur(Enum):\n",
    "    ROUGE = 1\n",
    "    VERT = 2\n",
    "    BLEU = 3\n",
    "\n",
    "class MaClasse:\n",
    "    def __init__(self, couleur):\n",
    "        self.couleur = couleur\n",
    "\n",
    "    def obtenir_couleur(self):\n",
    "        return self.couleur\n"
   ]
  },
  {
   "cell_type": "code",
   "execution_count": 2,
   "metadata": {},
   "outputs": [
    {
     "name": "stdout",
     "output_type": "stream",
     "text": [
      "Couleur.ROUGE\n",
      "Couleur.VERT\n"
     ]
    }
   ],
   "source": [
    "\n",
    "objet1 = MaClasse(Couleur.ROUGE)\n",
    "print(objet1.obtenir_couleur())  # Affiche : Couleur.ROUGE\n",
    "\n",
    "objet2 = MaClasse(Couleur.VERT)\n",
    "print(objet2.obtenir_couleur())  # Affiche : Couleur.VERT\n",
    "\n",
    "objet3 = MaClasse(\"JAUNE\")  # Lève une exception car \"JAUNE\" n'est pas une valeur valide de l'énumération\n"
   ]
  },
  {
   "cell_type": "code",
   "execution_count": 3,
   "metadata": {},
   "outputs": [],
   "source": [
    "objet3 = MaClasse(\"JAUNE\")  # Lève une exception car \"JAUNE\" n'est pas une valeur valide de l'énumération\n"
   ]
  }
 ],
 "metadata": {
  "kernelspec": {
   "display_name": "Python 3",
   "language": "python",
   "name": "python3"
  },
  "language_info": {
   "codemirror_mode": {
    "name": "ipython",
    "version": 3
   },
   "file_extension": ".py",
   "mimetype": "text/x-python",
   "name": "python",
   "nbconvert_exporter": "python",
   "pygments_lexer": "ipython3",
   "version": "3.10.6"
  },
  "orig_nbformat": 4
 },
 "nbformat": 4,
 "nbformat_minor": 2
}
